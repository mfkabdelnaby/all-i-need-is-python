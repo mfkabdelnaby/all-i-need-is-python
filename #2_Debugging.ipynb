{
 "cells": [
  {
   "cell_type": "markdown",
   "metadata": {},
   "source": [
    "**Example:** Find the error in the following code, a small fix will solve it"
   ]
  },
  {
   "cell_type": "code",
   "execution_count": 1,
   "metadata": {},
   "outputs": [
    {
     "name": "stdout",
     "output_type": "stream",
     "text": [
      "40\n",
      "longword\n"
     ]
    },
    {
     "ename": "TypeError",
     "evalue": "unsupported operand type(s) for +: 'int' and 'str'",
     "output_type": "error",
     "traceback": [
      "\u001b[1;31m---------------------------------------------------------------------------\u001b[0m",
      "\u001b[1;31mTypeError\u001b[0m                                 Traceback (most recent call last)",
      "\u001b[1;32m<ipython-input-1-3be96b0ecf4d>\u001b[0m in \u001b[0;36m<module>\u001b[1;34m()\u001b[0m\n\u001b[0;32m      7\u001b[0m \u001b[0mprintExample\u001b[0m\u001b[1;33m(\u001b[0m\u001b[1;36m17\u001b[0m\u001b[1;33m,\u001b[0m \u001b[1;36m23\u001b[0m\u001b[1;33m)\u001b[0m\u001b[1;33m\u001b[0m\u001b[0m\n\u001b[0;32m      8\u001b[0m \u001b[0mprintExample\u001b[0m\u001b[1;33m(\u001b[0m\u001b[1;34m'long'\u001b[0m\u001b[1;33m,\u001b[0m \u001b[1;34m'word'\u001b[0m\u001b[1;33m)\u001b[0m\u001b[1;33m\u001b[0m\u001b[0m\n\u001b[1;32m----> 9\u001b[1;33m \u001b[0mprintInches\u001b[0m\u001b[1;33m(\u001b[0m\u001b[1;36m42\u001b[0m\u001b[1;33m)\u001b[0m\u001b[1;33m\u001b[0m\u001b[0m\n\u001b[0m",
      "\u001b[1;32m<ipython-input-1-3be96b0ecf4d>\u001b[0m in \u001b[0;36mprintInches\u001b[1;34m(n)\u001b[0m\n\u001b[0;32m      3\u001b[0m \u001b[1;33m\u001b[0m\u001b[0m\n\u001b[0;32m      4\u001b[0m \u001b[1;32mdef\u001b[0m \u001b[0mprintInches\u001b[0m\u001b[1;33m(\u001b[0m\u001b[0mn\u001b[0m\u001b[1;33m)\u001b[0m\u001b[1;33m:\u001b[0m\u001b[1;33m\u001b[0m\u001b[0m\n\u001b[1;32m----> 5\u001b[1;33m     \u001b[0mprint\u001b[0m \u001b[1;33m(\u001b[0m\u001b[0mn\u001b[0m \u001b[1;33m+\u001b[0m \u001b[1;34m\" inches\"\u001b[0m\u001b[1;33m)\u001b[0m\u001b[1;33m\u001b[0m\u001b[0m\n\u001b[0m\u001b[0;32m      6\u001b[0m \u001b[1;33m\u001b[0m\u001b[0m\n\u001b[0;32m      7\u001b[0m \u001b[0mprintExample\u001b[0m\u001b[1;33m(\u001b[0m\u001b[1;36m17\u001b[0m\u001b[1;33m,\u001b[0m \u001b[1;36m23\u001b[0m\u001b[1;33m)\u001b[0m\u001b[1;33m\u001b[0m\u001b[0m\n",
      "\u001b[1;31mTypeError\u001b[0m: unsupported operand type(s) for +: 'int' and 'str'"
     ]
    }
   ],
   "source": [
    "def printExample(a, b):\n",
    "    print (a + b)\n",
    "    \n",
    "def printInches(n):\n",
    "    print (n + \" inches\")\n",
    "\n",
    "printExample(17, 23)\n",
    "printExample('long', 'word')\n",
    "printInches(42)"
   ]
  },
  {
   "cell_type": "markdown",
   "metadata": {},
   "source": [
    "---\n",
    "One way to fix it:"
   ]
  },
  {
   "cell_type": "code",
   "execution_count": null,
   "metadata": {},
   "outputs": [],
   "source": [
    "def printExample(a, b):\n",
    "    print (a + b)\n",
    "    \n",
    "def printInches(n):\n",
    "    print (n, \"inches\") #column\n",
    "\n",
    "printExample(17, 23)\n",
    "printExample('long', 'word')\n",
    "printInches(42)"
   ]
  },
  {
   "cell_type": "markdown",
   "metadata": {},
   "source": [
    "----\n",
    "Another way to fix the code:"
   ]
  },
  {
   "cell_type": "code",
   "execution_count": null,
   "metadata": {},
   "outputs": [],
   "source": [
    "def printExample(a, b):\n",
    "    print (a + b)\n",
    "    \n",
    "def printInches(n):\n",
    "    print (str(n)+ \" inches\")  #convert n into a string\n",
    "\n",
    "# Don't change the function calls\n",
    "printExample(17, 23)\n",
    "printExample('long', 'word')\n",
    "printInches(42)"
   ]
  },
  {
   "cell_type": "markdown",
   "metadata": {},
   "source": [
    "------\n",
    "**Example2:** The following function removes a sub-string from a complete string. It works very well in the first 3 ouputs. However, the rest of the outputs are kind of weird. Try to fix it!\n",
    "\n",
    "One good strategy in debugging is check intermediate results by placing `print` statements in the middle of the code and see what does it do exactly and where is the bug."
   ]
  },
  {
   "cell_type": "code",
   "execution_count": 14,
   "metadata": {},
   "outputs": [
    {
     "name": "stdout",
     "output_type": "stream",
     "text": [
      "dining\n"
     ]
    }
   ],
   "source": [
    "def remove(somestring, sub):\n",
    "    \"\"\"Return somestring with sub removed.\"\"\"\n",
    "    location = somestring.find(sub)\n",
    "    length = len(sub)\n",
    "    part_before = somestring[:location]\n",
    "    part_after = somestring[location + length:]\n",
    "    return part_before + part_after\n",
    "\n",
    "# \n",
    "#print (remove('audacity', 'a'))\n",
    "#print (remove('pythonic', 'ic'))\n",
    "#print (remove('substring institution', 'string in'))\n",
    "print (remove('ding', 'do'))  # \"do\" isn't in \"ding\"; should print \"ding\"\n",
    "#print (remove('doomy', 'dooming'))  # and this should print \"doomy\""
   ]
  },
  {
   "cell_type": "markdown",
   "metadata": {},
   "source": [
    "First of all, some print statements are added to find out where is the error"
   ]
  },
  {
   "cell_type": "code",
   "execution_count": 24,
   "metadata": {},
   "outputs": [
    {
     "name": "stdout",
     "output_type": "stream",
     "text": [
      "-1\n",
      "2\n",
      "din\n",
      "ing\n",
      "dining\n"
     ]
    }
   ],
   "source": [
    "def remove(somestring, sub):\n",
    "    \"\"\"Return somestring with sub removed.\"\"\"\n",
    "    location = somestring.find(sub)\n",
    "    print (location)\n",
    "    length = len(sub)\n",
    "    print (length)\n",
    "    part_before = somestring[:location]\n",
    "    print (part_before)\n",
    "    part_after = somestring[location + length:]\n",
    "    print(part_after)\n",
    "    return part_before + part_after\n",
    "\n",
    "# \n",
    "#print (remove('audacity', 'a'))\n",
    "#print (remove('pythonic', 'ic'))\n",
    "#print (remove('substring institution', 'string in'))\n",
    "print (remove('ding', 'do'))  # \"do\" isn't in \"ding\"; should print \"ding\"\n",
    "#print (remove('doomy', 'dooming'))  # and this should print \"doomy\""
   ]
  },
  {
   "cell_type": "markdown",
   "metadata": {},
   "source": [
    "As we can see, the `find` statement returns -1 if it doesnt find the string. This can be fixed by putting an `if` statement if the output of `find` is -1."
   ]
  },
  {
   "cell_type": "code",
   "execution_count": 30,
   "metadata": {},
   "outputs": [
    {
     "name": "stdout",
     "output_type": "stream",
     "text": [
      "ding\n"
     ]
    }
   ],
   "source": [
    "def remove(somestring, sub):\n",
    "    \"\"\"Return somestring with sub removed.\"\"\"\n",
    "    location = somestring.find(sub)\n",
    "    if location ==-1:\n",
    "        return somestring  #def ends here if location = -1\n",
    "    length = len(sub)\n",
    "    part_before = somestring[:location]\n",
    "    part_after = somestring[location + length:]\n",
    "    return part_before + part_after\n",
    "\n",
    "# \n",
    "#print (remove('audacity', 'a'))\n",
    "#print (remove('pythonic', 'ic'))\n",
    "#print (remove('substring institution', 'string in'))\n",
    "print (remove('ding', 'do'))  # \"do\" isn't in \"ding\"; should print \"ding\"\n",
    "#print (remove('doomy', 'dooming'))  # and this should print \"doomy\""
   ]
  },
  {
   "cell_type": "code",
   "execution_count": null,
   "metadata": {},
   "outputs": [],
   "source": []
  }
 ],
 "metadata": {
  "kernelspec": {
   "display_name": "Python 3",
   "language": "python",
   "name": "python3"
  },
  "language_info": {
   "codemirror_mode": {
    "name": "ipython",
    "version": 3
   },
   "file_extension": ".py",
   "mimetype": "text/x-python",
   "name": "python",
   "nbconvert_exporter": "python",
   "pygments_lexer": "ipython3",
   "version": "3.6.5"
  }
 },
 "nbformat": 4,
 "nbformat_minor": 2
}
