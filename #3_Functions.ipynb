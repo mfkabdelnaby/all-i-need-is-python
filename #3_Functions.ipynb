{
 "cells": [
  {
   "cell_type": "markdown",
   "metadata": {},
   "source": [
    "### On the first line of your function definition...\n",
    "\n",
    "* You must begin the line with `def` (lowercase).\n",
    "* After `def` you must give a function name.\n",
    "* Next, you must have a set of parentheses **with the required parameters inside**.\n",
    "* The line must end with a `:` colon.\n",
    "\n",
    "### In the body of the function\n",
    "\n",
    "* Every line in the function must be indented.\n",
    "* If you want your function to produce output, it must end with a `return` statement.\n",
    "\n",
    "\n",
    "### To \"call\" the function...\n",
    "\"Calling\" a function just means using it. You do this by writing:\n",
    "\n",
    "1. The function name, followed by...\n",
    "2. ...an open paren `(`, followed by...\n",
    "3. ...the values for the required parameters, followed by...\n",
    "4. ...a closed paren `)`.\n",
    "\n",
    "### To display the results of a function call.\n",
    "Don't forget to include the `print` command before you call your function if you want to display the result on your screen!\n",
    "\n",
    "See the examples below:\n",
    "\n",
    "**Example #1**: Greeting"
   ]
  },
  {
   "cell_type": "code",
   "execution_count": 9,
   "metadata": {},
   "outputs": [
    {
     "name": "stdout",
     "output_type": "stream",
     "text": [
      "Hello Miriam!\n",
      "Hello Andy!\n"
     ]
    }
   ],
   "source": [
    "def say_hello(name):\n",
    "    greeting = \"Hello \" + name + \"!\"\n",
    "    return greeting\n",
    "\n",
    "print (say_hello(\"Miriam\"))\n",
    "print (say_hello(\"Andy\"))"
   ]
  },
  {
   "cell_type": "markdown",
   "metadata": {},
   "source": [
    "---\n",
    "**Example #2**: Square Function"
   ]
  },
  {
   "cell_type": "code",
   "execution_count": 10,
   "metadata": {},
   "outputs": [
    {
     "name": "stdout",
     "output_type": "stream",
     "text": [
      "25\n"
     ]
    }
   ],
   "source": [
    "def square (x):\n",
    "    sqrt = x*x\n",
    "    return sqrt\n",
    "\n",
    "print (square(5))"
   ]
  },
  {
   "cell_type": "code",
   "execution_count": 11,
   "metadata": {},
   "outputs": [
    {
     "name": "stdout",
     "output_type": "stream",
     "text": [
      "625\n"
     ]
    }
   ],
   "source": [
    "print (square(square(5)))"
   ]
  },
  {
   "cell_type": "markdown",
   "metadata": {},
   "source": [
    "---\n",
    "**Example #3**: Sum Three"
   ]
  },
  {
   "cell_type": "code",
   "execution_count": 12,
   "metadata": {},
   "outputs": [
    {
     "name": "stdout",
     "output_type": "stream",
     "text": [
      "6\n"
     ]
    }
   ],
   "source": [
    "def sum3(x1,x2,x3):\n",
    "    return x1+x2+x3\n",
    "\n",
    "print (sum3(1,2,3))"
   ]
  },
  {
   "cell_type": "markdown",
   "metadata": {},
   "source": [
    "---\n",
    "**Example #4:** Abbaize\n",
    "\n",
    "Define a procedure, abbaize, that takes two strings as its inputs, and returns a string that is the first input, followed by two repetitions of the second input, followed by the first input."
   ]
  },
  {
   "cell_type": "code",
   "execution_count": 14,
   "metadata": {},
   "outputs": [
    {
     "name": "stdout",
     "output_type": "stream",
     "text": [
      "dogcatcatdog\n"
     ]
    }
   ],
   "source": [
    "def abbaize(s1,s2):\n",
    "    return s1+2*s2+s1\n",
    "\n",
    "print (abbaize('dog','cat'))"
   ]
  }
 ],
 "metadata": {
  "kernelspec": {
   "display_name": "Python 3",
   "language": "python",
   "name": "python3"
  },
  "language_info": {
   "codemirror_mode": {
    "name": "ipython",
    "version": 3
   },
   "file_extension": ".py",
   "mimetype": "text/x-python",
   "name": "python",
   "nbconvert_exporter": "python",
   "pygments_lexer": "ipython3",
   "version": "3.6.5"
  }
 },
 "nbformat": 4,
 "nbformat_minor": 2
}
