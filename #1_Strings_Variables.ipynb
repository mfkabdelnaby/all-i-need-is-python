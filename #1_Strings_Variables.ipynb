{
 "cells": [
  {
   "cell_type": "markdown",
   "metadata": {},
   "source": [
    "# Strings & Variables"
   ]
  },
  {
   "cell_type": "markdown",
   "metadata": {},
   "source": [
    "There are different types of variables:"
   ]
  },
  {
   "cell_type": "code",
   "execution_count": 1,
   "metadata": {},
   "outputs": [],
   "source": [
    "count = 100       #integer\n",
    "height = 100.0    #float\n",
    "name = \"mustafa\"  #string"
   ]
  },
  {
   "cell_type": "markdown",
   "metadata": {},
   "source": [
    "Strings are defined either with a single quote or a double quotes.\n"
   ]
  },
  {
   "cell_type": "code",
   "execution_count": 4,
   "metadata": {},
   "outputs": [],
   "source": [
    "greeting = 'hello!'\n",
    "greeting = \"hello!\""
   ]
  },
  {
   "cell_type": "markdown",
   "metadata": {},
   "source": [
    "### Multiple Assignment"
   ]
  },
  {
   "cell_type": "markdown",
   "metadata": {},
   "source": [
    "Python allows for multiple assingments as shown in the examples below:"
   ]
  },
  {
   "cell_type": "code",
   "execution_count": 7,
   "metadata": {},
   "outputs": [
    {
     "name": "stdout",
     "output_type": "stream",
     "text": [
      "2\n",
      "2\n"
     ]
    }
   ],
   "source": [
    "a = b = c = 2\n",
    "\n",
    "print(a)\n",
    "print(b)"
   ]
  },
  {
   "cell_type": "code",
   "execution_count": 8,
   "metadata": {},
   "outputs": [
    {
     "name": "stdout",
     "output_type": "stream",
     "text": [
      "1\n",
      "2\n",
      "3\n"
     ]
    }
   ],
   "source": [
    "a,b,c = 1,2,3\n",
    "\n",
    "print(a)\n",
    "print(b)\n",
    "print(c)"
   ]
  },
  {
   "cell_type": "markdown",
   "metadata": {},
   "source": [
    "### Strings Addition"
   ]
  },
  {
   "cell_type": "code",
   "execution_count": 11,
   "metadata": {},
   "outputs": [
    {
     "name": "stdout",
     "output_type": "stream",
     "text": [
      "HelloWorld\n"
     ]
    }
   ],
   "source": [
    "str1 = \"Hello\"\n",
    "str2 = \"World\"\n",
    "\n",
    "print(str1+str2)"
   ]
  },
  {
   "cell_type": "markdown",
   "metadata": {},
   "source": [
    "**Strings cannot be added to numbers**"
   ]
  },
  {
   "cell_type": "code",
   "execution_count": 18,
   "metadata": {
    "scrolled": false
   },
   "outputs": [
    {
     "ename": "TypeError",
     "evalue": "must be str, not int",
     "output_type": "error",
     "traceback": [
      "\u001b[1;31m---------------------------------------------------------------------------\u001b[0m",
      "\u001b[1;31mTypeError\u001b[0m                                 Traceback (most recent call last)",
      "\u001b[1;32m<ipython-input-18-9a528f14d431>\u001b[0m in \u001b[0;36m<module>\u001b[1;34m()\u001b[0m\n\u001b[1;32m----> 1\u001b[1;33m \u001b[0mname\u001b[0m \u001b[1;33m=\u001b[0m \u001b[1;34m'mustafa'\u001b[0m\u001b[1;33m+\u001b[0m\u001b[1;36m4\u001b[0m\u001b[1;33m\u001b[0m\u001b[0m\n\u001b[0m\u001b[0;32m      2\u001b[0m \u001b[0mprint\u001b[0m\u001b[1;33m(\u001b[0m\u001b[0mname\u001b[0m\u001b[1;33m)\u001b[0m\u001b[1;33m\u001b[0m\u001b[0m\n",
      "\u001b[1;31mTypeError\u001b[0m: must be str, not int"
     ]
    }
   ],
   "source": [
    "name = 'mustafa'+4\n",
    "print(name)"
   ]
  },
  {
   "cell_type": "markdown",
   "metadata": {},
   "source": [
    "One way to fix it is to convert the number to string"
   ]
  },
  {
   "cell_type": "code",
   "execution_count": 19,
   "metadata": {},
   "outputs": [
    {
     "name": "stdout",
     "output_type": "stream",
     "text": [
      "mustafa4\n"
     ]
    }
   ],
   "source": [
    "name = 'mustafa'+str(4)\n",
    "print(name)"
   ]
  },
  {
   "cell_type": "markdown",
   "metadata": {},
   "source": [
    "However, strings and numbers can be multiplied by each other"
   ]
  },
  {
   "cell_type": "code",
   "execution_count": 13,
   "metadata": {},
   "outputs": [
    {
     "name": "stdout",
     "output_type": "stream",
     "text": [
      "mustafa!!!!\n"
     ]
    }
   ],
   "source": [
    "name = 'mustafa'+'!'*4\n",
    "print(name)"
   ]
  },
  {
   "cell_type": "markdown",
   "metadata": {},
   "source": [
    "### Indexing Strings"
   ]
  },
  {
   "cell_type": "code",
   "execution_count": 3,
   "metadata": {},
   "outputs": [
    {
     "name": "stdout",
     "output_type": "stream",
     "text": [
      "A\n",
      "n\n",
      "d\n",
      "y\n"
     ]
    }
   ],
   "source": [
    "name = \"Andy\"\n",
    "print (name[0])\n",
    "print (name[1])\n",
    "print (name[2])\n",
    "print (name[3])"
   ]
  },
  {
   "cell_type": "markdown",
   "metadata": {},
   "source": [
    "### Negative indexing \n",
    "\n",
    "Counts from left to right starting with -1. See example below:"
   ]
  },
  {
   "cell_type": "code",
   "execution_count": 4,
   "metadata": {},
   "outputs": [
    {
     "name": "stdout",
     "output_type": "stream",
     "text": [
      "y\n",
      "d\n",
      "n\n",
      "A\n"
     ]
    }
   ],
   "source": [
    "name = \"Andy\"\n",
    "print (name[-1])\n",
    "print (name[-2])\n",
    "print (name[-3])\n",
    "print (name[-4])"
   ]
  },
  {
   "cell_type": "markdown",
   "metadata": {},
   "source": [
    "### Selecting Sub-sequence from String\n",
    "\n",
    "`string`[start:stop+1]"
   ]
  },
  {
   "cell_type": "code",
   "execution_count": 5,
   "metadata": {},
   "outputs": [
    {
     "name": "stdout",
     "output_type": "stream",
     "text": [
      "nd\n",
      "ndy\n",
      "An\n"
     ]
    }
   ],
   "source": [
    "name = \"Andy\"\n",
    "print (name[1:3])\n",
    "print (name[1:])\n",
    "print (name[:2])"
   ]
  },
  {
   "cell_type": "markdown",
   "metadata": {},
   "source": [
    "# Find String from string\n",
    "\n",
    "'String'.`find`('string')\n",
    "\n",
    "The output is a number that is the first position in the search string where the *target string* appears\n",
    "\n",
    "If target string is not found, output is **-1**"
   ]
  },
  {
   "cell_type": "code",
   "execution_count": 6,
   "metadata": {},
   "outputs": [
    {
     "name": "stdout",
     "output_type": "stream",
     "text": [
      "3\n"
     ]
    }
   ],
   "source": [
    "name = 'Moustafa'\n",
    "print (name.find('sta'))"
   ]
  },
  {
   "cell_type": "code",
   "execution_count": 7,
   "metadata": {},
   "outputs": [
    {
     "name": "stdout",
     "output_type": "stream",
     "text": [
      "stafa\n"
     ]
    }
   ],
   "source": [
    "print(name[3:])"
   ]
  },
  {
   "cell_type": "code",
   "execution_count": 8,
   "metadata": {},
   "outputs": [
    {
     "name": "stdout",
     "output_type": "stream",
     "text": [
      "-1\n"
     ]
    }
   ],
   "source": [
    "print(name.find('T'))"
   ]
  },
  {
   "cell_type": "markdown",
   "metadata": {},
   "source": [
    "#### Example: Printing out everything after a certain substring"
   ]
  },
  {
   "cell_type": "code",
   "execution_count": 17,
   "metadata": {},
   "outputs": [
    {
     "name": "stdout",
     "output_type": "stream",
     "text": [
      "Location is: 12\n",
      "color: blue\n",
      "blue\n"
     ]
    }
   ],
   "source": [
    "my_string = \"My favorite color: blue\"\n",
    "color_start_location = my_string.find(\"color:\")\n",
    "print(\"Location is: \"+str(color_start_location))\n",
    "favorite_color = my_string[color_start_location:]\n",
    "print (favorite_color) # oops, this line prints out 'color: ' as well...\n",
    "print (favorite_color[7:]) # this fixes it!"
   ]
  },
  {
   "cell_type": "markdown",
   "metadata": {},
   "source": [
    "### Finding with numbers\n",
    "\n",
    "'String'.`find`('string',number)\n",
    "\n",
    "The output is a number that is the first position in the search string where the *target string* appears, starting at position *number*"
   ]
  },
  {
   "cell_type": "code",
   "execution_count": 29,
   "metadata": {},
   "outputs": [
    {
     "name": "stdout",
     "output_type": "stream",
     "text": [
      "0\n",
      "3\n"
     ]
    }
   ],
   "source": [
    "print (\"test\".find(\"t\"))\n",
    "print (\"test\".find(\"t\", 1)) #where is \"t\" from position 1 onwards"
   ]
  },
  {
   "cell_type": "markdown",
   "metadata": {},
   "source": [
    "### Strings Defined Functions"
   ]
  },
  {
   "cell_type": "code",
   "execution_count": 41,
   "metadata": {},
   "outputs": [
    {
     "name": "stdout",
     "output_type": "stream",
     "text": [
      "Hello World!\n",
      "4\n",
      "12\n",
      "4\n",
      "3\n",
      "loWr\n",
      "HELLO WORLD!\n",
      "hello world!\n",
      "True\n",
      "False\n"
     ]
    }
   ],
   "source": [
    "greeting = \"Hello World!\"\n",
    "\n",
    "print(greeting)\n",
    "print(greeting.find(\"o\")) #location of o\n",
    "print(len(greeting)) #length\n",
    "print(greeting.index(\"o\")) #same as find\n",
    "print(greeting.count(\"l\")) #how many \"l\"?\n",
    "print(greeting[2:10:2]) #from index 2 to 10, steps of 2\n",
    "print(greeting.upper()) #all upper\n",
    "print(greeting.lower()) #all lower\n",
    "print(greeting.startswith(\"H\")) #does it start with \"H\"?\n",
    "print(greeting.endswith(\"o\")) #does it end with \"o\"?"
   ]
  },
  {
   "cell_type": "markdown",
   "metadata": {},
   "source": [
    "### Split"
   ]
  },
  {
   "cell_type": "code",
   "execution_count": 51,
   "metadata": {},
   "outputs": [
    {
     "name": "stdout",
     "output_type": "stream",
     "text": [
      "['Hello', 'World!']\n",
      "['Hell', ' W', 'rld!']\n"
     ]
    }
   ],
   "source": [
    "greeting = \"Hello World!\"\n",
    "print(greeting.split(\" \"))\n",
    "#This will split the string into a list of strings. \n",
    "#The breakpoint in the space here\n",
    "\n",
    "print(greeting.split(\"o\"))"
   ]
  },
  {
   "cell_type": "markdown",
   "metadata": {},
   "source": [
    "#### Example: Using find to get rid of exclamation marks!!"
   ]
  },
  {
   "cell_type": "code",
   "execution_count": 25,
   "metadata": {},
   "outputs": [
    {
     "name": "stdout",
     "output_type": "stream",
     "text": [
      "Wow Python is great Don't you think?\n",
      "Wow. Python is great. Don't you think?\n"
     ]
    }
   ],
   "source": [
    "example = \"Wow! Python is great! Don't you think?\"\n",
    "first = example.find('!')\n",
    "second = example.find('!', first + 1)\n",
    "new_string = example[:first] + example[first+1:second] + example[second+1:]\n",
    "print (new_string) # oops, I should probably replace the !s with periods\n",
    "new_string = example[:first] +'.'+ example[first+1:second] +'.'+ example[second+1:]\n",
    "print (new_string)"
   ]
  },
  {
   "cell_type": "markdown",
   "metadata": {},
   "source": [
    "### Python Arithmetic Operators"
   ]
  },
  {
   "cell_type": "markdown",
   "metadata": {},
   "source": [
    "| Operator          | Example                |\n",
    "|-------------------|------------------------|\n",
    "| + Addition        | a+b = 10               |\n",
    "| - Subtration      | a-b = -5               |\n",
    "| * Multiplication  | a*b =1 00              |\n",
    "| / Division        | b/a = 3                |\n",
    "| % Modulus (remainder)         | b%a = 2                |\n",
    "| ** Exponent       | a**b = 1000            |\n",
    "| // Floor Division | 9//2 = 4, 9.0/2.0 = 4.0 |"
   ]
  },
  {
   "cell_type": "markdown",
   "metadata": {},
   "source": [
    "---\n",
    "`+=` is shorthand notation for adding a value to a variable. The following two lines of code are equivalent:\n",
    "\n",
    "`new_sentence += substring1`\n",
    "\n",
    "`new_sentence = new_sentence + substring1`\n",
    "\n",
    "which is also applied to the rest of operators"
   ]
  },
  {
   "cell_type": "markdown",
   "metadata": {},
   "source": [
    "### Argument Specifiers"
   ]
  },
  {
   "cell_type": "markdown",
   "metadata": {},
   "source": [
    "Python uses C-style string formatting to create new, formatted strings. This is done in the form of normal text wih \"argument specifiers\", especially \"%s\" and \"%d\"\n"
   ]
  },
  {
   "cell_type": "code",
   "execution_count": 26,
   "metadata": {},
   "outputs": [
    {
     "name": "stdout",
     "output_type": "stream",
     "text": [
      "Hello, John!\n"
     ]
    }
   ],
   "source": [
    "name = \"John\"\n",
    "print(\"Hello, %s!\" % name)"
   ]
  },
  {
   "cell_type": "code",
   "execution_count": 27,
   "metadata": {},
   "outputs": [
    {
     "name": "stdout",
     "output_type": "stream",
     "text": [
      "John is 23 years old.\n"
     ]
    }
   ],
   "source": [
    "name = \"John\"\n",
    "age = 23\n",
    "print(\"%s is %d years old.\" % (name, age))"
   ]
  },
  {
   "cell_type": "markdown",
   "metadata": {},
   "source": [
    "**NOTE:** Any object which is not a string can be formatted using the %s operator as well. (ex. lists)"
   ]
  },
  {
   "cell_type": "code",
   "execution_count": 28,
   "metadata": {},
   "outputs": [
    {
     "name": "stdout",
     "output_type": "stream",
     "text": [
      "Hello John Doe. Your current balance is $53.44.\n"
     ]
    }
   ],
   "source": [
    "data = (\"John\", \"Doe\", 53.44) #tuple\n",
    "format_string = \"Hello %s %s. Your current balance is $%s.\"\n",
    "\n",
    "print(format_string % data)"
   ]
  },
  {
   "cell_type": "code",
   "execution_count": null,
   "metadata": {},
   "outputs": [],
   "source": []
  }
 ],
 "metadata": {
  "kernelspec": {
   "display_name": "Python 3",
   "language": "python",
   "name": "python3"
  },
  "language_info": {
   "codemirror_mode": {
    "name": "ipython",
    "version": 3
   },
   "file_extension": ".py",
   "mimetype": "text/x-python",
   "name": "python",
   "nbconvert_exporter": "python",
   "pygments_lexer": "ipython3",
   "version": "3.6.5"
  }
 },
 "nbformat": 4,
 "nbformat_minor": 2
}
