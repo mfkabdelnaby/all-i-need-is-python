{
 "cells": [
  {
   "cell_type": "markdown",
   "metadata": {},
   "source": [
    "## while Loop:\n",
    "\n",
    "The `while` loop is like a repeated `if` statement. The code is executed over and over again, as long as the condition is True. Have another look at its recipe.\n",
    "\n",
    "`while condition:\n",
    "    expression`"
   ]
  },
  {
   "cell_type": "markdown",
   "metadata": {},
   "source": [
    "#### Example"
   ]
  },
  {
   "cell_type": "code",
   "execution_count": 1,
   "metadata": {},
   "outputs": [
    {
     "name": "stdout",
     "output_type": "stream",
     "text": [
      "The count is: 0\n",
      "The count is: 1\n",
      "The count is: 2\n",
      "The count is: 3\n",
      "The count is: 4\n",
      "The count is: 5\n",
      "The count is: 6\n",
      "The count is: 7\n",
      "The count is: 8\n",
      "Good bye!\n"
     ]
    }
   ],
   "source": [
    "count = 0\n",
    "while (count < 9):\n",
    "   print ('The count is:', count)\n",
    "   count = count + 1\n",
    "print (\"Good bye!\")"
   ]
  },
  {
   "cell_type": "markdown",
   "metadata": {},
   "source": [
    "#### Example #2:\n",
    "Write a function that removes all the spaces from a string"
   ]
  },
  {
   "cell_type": "code",
   "execution_count": 2,
   "metadata": {},
   "outputs": [
    {
     "name": "stdout",
     "output_type": "stream",
     "text": [
      "hellomynameisandyhowareyou?\n"
     ]
    }
   ],
   "source": [
    "def remove_spaces(text):\n",
    "    text_without_spaces = '' #empty string for now for initialization\n",
    "    while text != '':          #for the entre string\n",
    "        next_character = text[0]\n",
    "        if next_character != ' ':    #that's a single space\n",
    "            text_without_spaces = text_without_spaces + next_character    #''+'string'='string' \n",
    "            \n",
    "    # if text is a space, 'if' ends here, the string index will move to the next one\n",
    "        text = text[1:]     #starts from the second index each time (similar to increment for numbers), end of 'while'\n",
    "    return text_without_spaces     ##end of def\n",
    "\n",
    "print (remove_spaces(\"hello my name is andy how are you?\"))"
   ]
  },
  {
   "cell_type": "markdown",
   "metadata": {},
   "source": [
    "**Example #3:** Countdown\n",
    "\n",
    "Define a procedure, countdown, that takes a positive whole number as its input, and prints out a countdown from that number to 1, followed by Blastoff!\n",
    "The procedure should not return anything.For this question, you just need to call the procedure using the line countdown(3)\n",
    "instead of print countdown(3).\n"
   ]
  },
  {
   "cell_type": "code",
   "execution_count": 22,
   "metadata": {},
   "outputs": [
    {
     "name": "stdout",
     "output_type": "stream",
     "text": [
      "3\n",
      "2\n",
      "1\n",
      "Blastoff!\n"
     ]
    }
   ],
   "source": [
    "def countdown (n):\n",
    "    while n>0:\n",
    "        print (n)\n",
    "        n-=1\n",
    "    print ('Blastoff!')\n",
    "\n",
    "\n",
    "\n",
    "countdown(3)\n",
    "#>>> 3\n",
    "#>>> 2\n",
    "#>>> 1\n",
    "#>>> Blastoff!\n"
   ]
  },
  {
   "cell_type": "markdown",
   "metadata": {},
   "source": [
    "---\n",
    "**Example:** Procss Mad Lib\n",
    "\n",
    "Write code for the function process_madlib, which takes in a string \"madlib\" and returns the string \"processed\", where each instance of \"NOUN\" is replaced with a random noun and each instance of \"VERB\" is replaced with a random verb."
   ]
  },
  {
   "cell_type": "code",
   "execution_count": 34,
   "metadata": {},
   "outputs": [
    {
     "name": "stdout",
     "output_type": "stream",
     "text": [
      "This is a good llama to use when you run your food\n",
      "I'm going to kayak to the store and pick up a sofa or two.\n"
     ]
    }
   ],
   "source": [
    "from random import randint\n",
    "\n",
    "def random_verb():\n",
    "    random_num = randint(0, 1)\n",
    "    if random_num == 0:\n",
    "        return \"run\"\n",
    "    else:\n",
    "        return \"kayak\"\n",
    "        \n",
    "def random_noun():\n",
    "    random_num = randint(0,1)\n",
    "    if random_num == 0:\n",
    "        return \"sofa\"\n",
    "    else:\n",
    "        return \"llama\"\n",
    "\n",
    "def word_transformer(word):\n",
    "    if word == \"NOUN\":\n",
    "        return random_noun()\n",
    "    elif word == \"VERB\":       #elif\n",
    "        return random_verb()\n",
    "    else:\n",
    "        return word[0]\n",
    "        \n",
    "def process_madlib(mad_lib):\n",
    "    processed = \"\"\n",
    "    index=0\n",
    "    box_length=4\n",
    "    while index<len(mad_lib):\n",
    "        frame = mad_lib[index:index+box_length]\n",
    "        to_add = word_transformer(frame)\n",
    "        processed+= to_add\n",
    "        if len(to_add)==1:  #if it is not a noun or verb, the word_transformer returns only the first charactar, so in this case we need to move by 1\n",
    "            index+=1\n",
    "        else: index+=4\n",
    "    return processed\n",
    "    \n",
    "test_string_1 = \"This is a good NOUN to use when you VERB your food\"\n",
    "test_string_2 = \"I'm going to VERB to the store and pick up a NOUN or two.\"\n",
    "print (process_madlib(test_string_1))\n",
    "print (process_madlib(test_string_2))"
   ]
  },
  {
   "cell_type": "markdown",
   "metadata": {},
   "source": [
    "## Break"
   ]
  },
  {
   "cell_type": "code",
   "execution_count": 1,
   "metadata": {},
   "outputs": [
    {
     "name": "stdout",
     "output_type": "stream",
     "text": [
      "Current variable value : 10\n",
      "Current variable value : 9\n",
      "Current variable value : 8\n",
      "Current variable value : 7\n",
      "Current variable value : 6\n",
      "Good bye!\n"
     ]
    }
   ],
   "source": [
    "var = 10\n",
    "while var > 0:              \n",
    "   print ('Current variable value :', var)\n",
    "   var = var-1\n",
    "   if var == 5:    # if <break_statement>  break\n",
    "      break\n",
    "\n",
    "print ('Good bye!')"
   ]
  },
  {
   "cell_type": "markdown",
   "metadata": {},
   "source": [
    "## Continue"
   ]
  },
  {
   "cell_type": "code",
   "execution_count": 3,
   "metadata": {},
   "outputs": [
    {
     "name": "stdout",
     "output_type": "stream",
     "text": [
      "Current variable value : 4\n",
      "Current variable value : 2\n",
      "Current variable value : 1\n",
      "Current variable value : 0\n",
      "Good bye!\n"
     ]
    }
   ],
   "source": [
    "var = 5                    # Second Example\n",
    "while var > 0:              \n",
    "   var = var -1\n",
    "   if var == 3:\n",
    "      continue #skip it and go back to the while loop\n",
    "   print ('Current variable value :', var)\n",
    "print (\"Good bye!\")"
   ]
  },
  {
   "cell_type": "markdown",
   "metadata": {},
   "source": [
    "Notice that the value 3 is not printed"
   ]
  },
  {
   "cell_type": "code",
   "execution_count": null,
   "metadata": {},
   "outputs": [],
   "source": []
  }
 ],
 "metadata": {
  "kernelspec": {
   "display_name": "Python 3",
   "language": "python",
   "name": "python3"
  },
  "language_info": {
   "codemirror_mode": {
    "name": "ipython",
    "version": 3
   },
   "file_extension": ".py",
   "mimetype": "text/x-python",
   "name": "python",
   "nbconvert_exporter": "python",
   "pygments_lexer": "ipython3",
   "version": "3.7.1"
  }
 },
 "nbformat": 4,
 "nbformat_minor": 2
}
