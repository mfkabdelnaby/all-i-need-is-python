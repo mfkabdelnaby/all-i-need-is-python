{
 "cells": [
  {
   "cell_type": "markdown",
   "metadata": {},
   "source": [
    "## Conditions"
   ]
  },
  {
   "cell_type": "code",
   "execution_count": 3,
   "metadata": {},
   "outputs": [
    {
     "name": "stdout",
     "output_type": "stream",
     "text": [
      "True\n",
      "False\n",
      "True\n",
      "True\n",
      "True\n"
     ]
    }
   ],
   "source": [
    "x = 2\n",
    "print(x == 2) # is x equal to 2? prints out True\n",
    "print(x == 3) # prints out False\n",
    "print(x < 3) # prints out True\n",
    "print(x>=2) \n",
    "print(x!=3) #not equal to"
   ]
  },
  {
   "cell_type": "markdown",
   "metadata": {},
   "source": [
    "## Boolean Operators\n",
    "\n",
    "AND\n",
    "OR"
   ]
  },
  {
   "cell_type": "code",
   "execution_count": 6,
   "metadata": {},
   "outputs": [
    {
     "name": "stdout",
     "output_type": "stream",
     "text": [
      "Your name is John, and you are also 23 years old.\n",
      "Your name is either John or Rick.\n"
     ]
    }
   ],
   "source": [
    "name = \"John\"\n",
    "age = 23\n",
    "if name == \"John\" and age == 23:\n",
    "    print(\"Your name is John, and you are also 23 years old.\")\n",
    "\n",
    "if name == \"John\" or name == \"Rick\":\n",
    "    print(\"Your name is either John or Rick.\")"
   ]
  },
  {
   "cell_type": "markdown",
   "metadata": {},
   "source": [
    "### The \"in\" Operator\n",
    "**\"not in\" is the opposite**"
   ]
  },
  {
   "cell_type": "markdown",
   "metadata": {},
   "source": [
    "** \"not in\" is the opposite **"
   ]
  },
  {
   "cell_type": "code",
   "execution_count": 5,
   "metadata": {},
   "outputs": [
    {
     "name": "stdout",
     "output_type": "stream",
     "text": [
      "Your name is either John or Rick.\n"
     ]
    }
   ],
   "source": [
    "name = \"John\"\n",
    "if name in [\"John\", \"Rick\"]:\n",
    "    print(\"Your name is either John or Rick.\")"
   ]
  },
  {
   "cell_type": "markdown",
   "metadata": {},
   "source": [
    "## Decision Making ( *if* ):"
   ]
  },
  {
   "cell_type": "markdown",
   "metadata": {},
   "source": [
    "**Example:** bigger"
   ]
  },
  {
   "cell_type": "code",
   "execution_count": 8,
   "metadata": {},
   "outputs": [
    {
     "name": "stdout",
     "output_type": "stream",
     "text": [
      "8\n",
      "3\n",
      "3\n"
     ]
    }
   ],
   "source": [
    "def bigger(x1,x2):\n",
    "    if x1>x2:\n",
    "        return x1\n",
    "    else: return x2\n",
    "\n",
    "print (bigger(3,8))\n",
    "print (bigger(3,2))\n",
    "print (bigger(3,3))"
   ]
  },
  {
   "cell_type": "markdown",
   "metadata": {},
   "source": [
    "**Example:** Is_Friend\n",
    "\n",
    "Define a procedure (function), is_friend, that takes a string as its input, and returns a Boolean indicating if the input string is the name of a friend. Assume I am friends with everyone whose name starts with D and no one else. You do not need to check for the lower case 'd'"
   ]
  },
  {
   "cell_type": "code",
   "execution_count": 11,
   "metadata": {},
   "outputs": [
    {
     "name": "stdout",
     "output_type": "stream",
     "text": [
      "True\n",
      "False\n"
     ]
    }
   ],
   "source": [
    "def is_friend (name):\n",
    "    if name[0]=='D':\n",
    "        return True\n",
    "    else: return False\n",
    "\n",
    "print (is_friend('Dave'))        \n",
    "print (is_friend('Moustafa'))    "
   ]
  },
  {
   "cell_type": "markdown",
   "metadata": {},
   "source": [
    "The Is_Friend example can be done in a simpler way with less code since the test itself evaluates a Boolean"
   ]
  },
  {
   "cell_type": "code",
   "execution_count": 14,
   "metadata": {},
   "outputs": [
    {
     "name": "stdout",
     "output_type": "stream",
     "text": [
      "True\n",
      "False\n"
     ]
    }
   ],
   "source": [
    "def is_friend (name):\n",
    "    print (name[0]=='D')\n",
    "\n",
    "is_friend('Dave')      \n",
    "is_friend('Moustafa')"
   ]
  },
  {
   "cell_type": "markdown",
   "metadata": {},
   "source": [
    "Assume I am friends with everyone whose name else. You do not need to check for lower case 'd' or 'n'"
   ]
  },
  {
   "cell_type": "code",
   "execution_count": 21,
   "metadata": {},
   "outputs": [
    {
     "name": "stdout",
     "output_type": "stream",
     "text": [
      "True\n",
      "True\n",
      "False\n"
     ]
    }
   ],
   "source": [
    "def is_friend (name):\n",
    "    if name[0]=='D' or name[0]=='N':\n",
    "        return True\n",
    "    else: return False\n",
    "\n",
    "print (is_friend('Dave'))        \n",
    "print (is_friend('Nader'))\n",
    "print (is_friend('Moustafa'))"
   ]
  },
  {
   "cell_type": "markdown",
   "metadata": {},
   "source": [
    "**Example:** Biggest\n",
    "\n",
    "Define a procedure, biggest, that takes three numbers as inputs and returns the largest of those three numbers.\n",
    "\n",
    "**Solution:** I will start with my first solution to this problem, I got an error that I will keep it as a reference"
   ]
  },
  {
   "cell_type": "code",
   "execution_count": 27,
   "metadata": {},
   "outputs": [
    {
     "ename": "SyntaxError",
     "evalue": "invalid syntax (<ipython-input-27-9ca438c07f09>, line 4)",
     "output_type": "error",
     "traceback": [
      "\u001b[1;36m  File \u001b[1;32m\"<ipython-input-27-9ca438c07f09>\"\u001b[1;36m, line \u001b[1;32m4\u001b[0m\n\u001b[1;33m    else: if x2>x1 and x2>x3:\u001b[0m\n\u001b[1;37m           ^\u001b[0m\n\u001b[1;31mSyntaxError\u001b[0m\u001b[1;31m:\u001b[0m invalid syntax\n"
     ]
    }
   ],
   "source": [
    "def biggest(x1,x2,x3):\n",
    "    if x1>x2 and x1>x3:\n",
    "        return x1\n",
    "    else: if x2>x1 and x2>x3:\n",
    "        return x2\n",
    "    else: return x3\n",
    "\n",
    "print (biggest(1,2,3))\n"
   ]
  },
  {
   "cell_type": "markdown",
   "metadata": {},
   "source": [
    "This could be solved by using a separate `if` statement for each comparison"
   ]
  },
  {
   "cell_type": "markdown",
   "metadata": {},
   "source": [
    "Another way of doing the problem is (my second attempt):"
   ]
  },
  {
   "cell_type": "code",
   "execution_count": 1,
   "metadata": {},
   "outputs": [
    {
     "name": "stdout",
     "output_type": "stream",
     "text": [
      "3\n"
     ]
    }
   ],
   "source": [
    "def bigger(x1,x2):\n",
    "    if x1>x2:\n",
    "        return x1\n",
    "    else: return x2\n",
    "    \n",
    "def biggest(x1,x2,x3):\n",
    "    x_b12 = bigger(x1,x2)\n",
    "    if x_b12>x3:\n",
    "        return x_b12\n",
    "    else: return x3\n",
    "\n",
    "\n",
    "print (biggest(1,2,3))\n"
   ]
  },
  {
   "cell_type": "markdown",
   "metadata": {},
   "source": [
    "The optimum answer with the shortest code is as follows:"
   ]
  },
  {
   "cell_type": "code",
   "execution_count": 5,
   "metadata": {},
   "outputs": [],
   "source": [
    "def bigger(a,b):\n",
    "    if a > b:\n",
    "        return a\n",
    "    else:\n",
    "        return b\n",
    "\n",
    "def biggest(a,b,c):\n",
    "    return bigger(a,bigger(b,c))"
   ]
  },
  {
   "cell_type": "markdown",
   "metadata": {},
   "source": [
    "---\n",
    "**Example:** Median\n",
    "\n",
    "Define a procedure, median, that takes three numbers as its inputs, and returns the median of the three numbers.\n"
   ]
  },
  {
   "cell_type": "code",
   "execution_count": 14,
   "metadata": {},
   "outputs": [
    {
     "name": "stdout",
     "output_type": "stream",
     "text": [
      "2\n",
      "6\n",
      "7\n"
     ]
    }
   ],
   "source": [
    "# first we need to call biggest to get the max\n",
    "def bigger(a,b):\n",
    "    if a > b:\n",
    "        return a\n",
    "    else:\n",
    "        return b\n",
    "\n",
    "def biggest(a,b,c):\n",
    "    return bigger(a,bigger(b,c))\n",
    "\n",
    "\n",
    "# median function\n",
    "def median (a,b,c):\n",
    "    if a == biggest(a,b,c):\n",
    "        return bigger(b,c)\n",
    "    if b == biggest(a,b,c):\n",
    "        return bigger(a,c)\n",
    "    if c == biggest(a,b,c):\n",
    "        return bigger(a,b)\n",
    "\n",
    "\n",
    "print(median(1,2,3))\n",
    "#>>> 2\n",
    "\n",
    "print(median(9,3,6))\n",
    "#>>> 6\n",
    "\n",
    "print(median(7,8,7))\n",
    "#>>> 7\n",
    "\n",
    "        "
   ]
  },
  {
   "cell_type": "markdown",
   "metadata": {},
   "source": [
    "---\n",
    "**Example:** Weekday\n",
    "\n",
    "Define a procedure weekend which takes a string as its input, and\n",
    "returns the boolean True if it's 'Saturday' or 'Sunday' and False otherwise.\n"
   ]
  },
  {
   "cell_type": "code",
   "execution_count": 20,
   "metadata": {},
   "outputs": [
    {
     "name": "stdout",
     "output_type": "stream",
     "text": [
      "False\n",
      "True\n",
      "False\n"
     ]
    }
   ],
   "source": [
    "def weekend(day):\n",
    "    if day == 'Saturday' or day=='Sunday':\n",
    "        return True\n",
    "    else: return False\n",
    "    \n",
    "print (weekend('Monday'))\n",
    "#>>> False\n",
    "\n",
    "print (weekend('Saturday'))\n",
    "#>>> True\n",
    "\n",
    "print (weekend('July'))\n",
    "#>>> False"
   ]
  },
  {
   "cell_type": "markdown",
   "metadata": {},
   "source": [
    "---\n",
    "**Example:** Random Nouns\n",
    "\n",
    "Write code for the function random_noun, which takes in no inputs but outputs one of two nouns randomly. Use the randint function to generate a number from 0-1 and return a noun depending on whether the number is equal to 0 or 1. The string \"sofa\" if the number is 0, else return \"llama\".\n",
    "\n",
    "**NOTE:** *include `from random import randint` at the top of your code to validate randint since it is not built in Python*"
   ]
  },
  {
   "cell_type": "code",
   "execution_count": 47,
   "metadata": {},
   "outputs": [
    {
     "name": "stdout",
     "output_type": "stream",
     "text": [
      "1\n",
      "llama\n"
     ]
    }
   ],
   "source": [
    "from random import randint \n",
    "\n",
    "def random_noun():\n",
    "    num = randint(0,1)  #returns random integer between 0 and 1\n",
    "    print(num)\n",
    "    if num == 0:\n",
    "        noun =\"sofa\"\n",
    "    else: noun = \"llama\"\n",
    "    return noun\n",
    "print (random_noun())"
   ]
  },
  {
   "cell_type": "markdown",
   "metadata": {},
   "source": [
    "----\n",
    "**Example:** Word Transformer\n",
    "\n",
    "Write code for the function word_transformer, which takes in a string word as input. If word is equal to \"NOUN\", return a random noun, if word is equal to \"VERB\", return a random verb, else return the first character of word. "
   ]
  },
  {
   "cell_type": "code",
   "execution_count": 56,
   "metadata": {},
   "outputs": [
    {
     "name": "stdout",
     "output_type": "stream",
     "text": [
      "sofa\n",
      "run\n",
      "H\n"
     ]
    }
   ],
   "source": [
    "from random import randint\n",
    "\n",
    "def random_verb():\n",
    "    random_num = randint(0, 1)\n",
    "    if random_num == 0:\n",
    "        return \"run\"\n",
    "    else:\n",
    "        return \"kayak\"\n",
    "        \n",
    "def random_noun():\n",
    "    random_num = randint(0,1)\n",
    "    if random_num == 0:\n",
    "        return \"sofa\"\n",
    "    else:\n",
    "        return \"llama\"\n",
    "\n",
    "def word_transformer(word):\n",
    "    if word == 'NOUN':\n",
    "        return random_noun()\n",
    "    if word == 'VERB':\n",
    "        return random_verb()\n",
    "    else: return word[0]\n",
    "    \n",
    "print(word_transformer('NOUN'))\n",
    "print(word_transformer('VERB'))\n",
    "print(word_transformer('HI'))"
   ]
  },
  {
   "cell_type": "markdown",
   "metadata": {},
   "source": [
    "---\n",
    "**Example:** Process Mad Lib Generator\n",
    "\n",
    "Write code for the function process_madlib, which takes in a string \"madlib\" and returns the string \"processed\", where each instance of \"NOUN\" is replaced with a random noun and each instance of \"VERB\" is replaced with a random verb.\n",
    "\n",
    "*The answer of this question is displayed in the 'While' file*"
   ]
  }
 ],
 "metadata": {
  "kernelspec": {
   "display_name": "Python 3",
   "language": "python",
   "name": "python3"
  },
  "language_info": {
   "codemirror_mode": {
    "name": "ipython",
    "version": 3
   },
   "file_extension": ".py",
   "mimetype": "text/x-python",
   "name": "python",
   "nbconvert_exporter": "python",
   "pygments_lexer": "ipython3",
   "version": "3.6.5"
  }
 },
 "nbformat": 4,
 "nbformat_minor": 2
}
