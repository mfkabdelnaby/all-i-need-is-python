{
 "cells": [
  {
   "cell_type": "markdown",
   "metadata": {},
   "source": [
    "# Import Packages"
   ]
  },
  {
   "cell_type": "markdown",
   "metadata": {},
   "source": [
    "If you want to use a certain **Package** in Python, you need to `import` it so that you can use its functions\n",
    "\n",
    "For example, you need to find the circumference, C, and area, A, of a circle that are given by the following formulas:\n"
   ]
  },
  {
   "cell_type": "markdown",
   "metadata": {},
   "source": [
    "$$C = 2 \\pi r$$\n",
    "$$A = \\pi r^{2}$$\n",
    "\n",
    "In order to use (Pi) you need to import the math function that has pi pre-defind in it"
   ]
  },
  {
   "cell_type": "code",
   "execution_count": 1,
   "metadata": {},
   "outputs": [
    {
     "name": "stdout",
     "output_type": "stream",
     "text": [
      "3.141592653589793\n"
     ]
    }
   ],
   "source": [
    "import math\n",
    "\n",
    "r = 0.5\n",
    "print(math.pi) #you have to use the package name to call its function"
   ]
  },
  {
   "cell_type": "code",
   "execution_count": 4,
   "metadata": {},
   "outputs": [
    {
     "name": "stdout",
     "output_type": "stream",
     "text": [
      "The circumference is: 3.141592653589793\n",
      "The are is:0.7853981633974483\n"
     ]
    }
   ],
   "source": [
    "C = 2*math.pi*r\n",
    "A = math.pi*r**2\n",
    "\n",
    "print(\"The circumference is:\",str(C))\n",
    "print(\"The are is:\"+str(A))\n"
   ]
  },
  {
   "cell_type": "markdown",
   "metadata": {},
   "source": [
    "--------\n",
    "Another function in `math` is **radians** to convert from degrees to rads"
   ]
  },
  {
   "cell_type": "code",
   "execution_count": 11,
   "metadata": {},
   "outputs": [
    {
     "name": "stdout",
     "output_type": "stream",
     "text": [
      "0.5235987755982988\n"
     ]
    }
   ],
   "source": [
    "from math import radians \n",
    "#you can call this function sepcifically if its the only one you want to use in the package\n",
    "\n",
    "angle_deg = 30\n",
    "angle_rad = radians(angle_deg)\n",
    "\n",
    "print(angle_rad)"
   ]
  },
  {
   "cell_type": "code",
   "execution_count": null,
   "metadata": {},
   "outputs": [],
   "source": []
  }
 ],
 "metadata": {
  "kernelspec": {
   "display_name": "Python 3",
   "language": "python",
   "name": "python3"
  },
  "language_info": {
   "codemirror_mode": {
    "name": "ipython",
    "version": 3
   },
   "file_extension": ".py",
   "mimetype": "text/x-python",
   "name": "python",
   "nbconvert_exporter": "python",
   "pygments_lexer": "ipython3",
   "version": "3.7.1"
  }
 },
 "nbformat": 4,
 "nbformat_minor": 2
}
