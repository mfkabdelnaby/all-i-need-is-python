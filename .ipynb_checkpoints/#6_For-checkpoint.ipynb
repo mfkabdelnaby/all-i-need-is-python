{
 "cells": [
  {
   "cell_type": "markdown",
   "metadata": {},
   "source": [
    "# For Loops"
   ]
  },
  {
   "cell_type": "markdown",
   "metadata": {},
   "source": [
    "`For` loops is a simpler way to go through your lists than `while`.\n",
    "\n",
    "`for var in seq:\n",
    "    expression`"
   ]
  },
  {
   "cell_type": "markdown",
   "metadata": {},
   "source": [
    "We can  use for loops to go through a string of strings"
   ]
  },
  {
   "cell_type": "code",
   "execution_count": 1,
   "metadata": {},
   "outputs": [
    {
     "name": "stdout",
     "output_type": "stream",
     "text": [
      "b\n",
      "a\n",
      "n\n",
      "a\n",
      "n\n",
      "a\n"
     ]
    }
   ],
   "source": [
    "for x in \"banana\":\n",
    "  print(x)"
   ]
  },
  {
   "cell_type": "code",
   "execution_count": 3,
   "metadata": {},
   "outputs": [
    {
     "name": "stdout",
     "output_type": "stream",
     "text": [
      "B\n",
      "A\n",
      "N\n",
      "A\n",
      "N\n",
      "A\n"
     ]
    }
   ],
   "source": [
    "for x in \"banana\":\n",
    "  print(x.capitalize())"
   ]
  },
  {
   "cell_type": "markdown",
   "metadata": {},
   "source": [
    "We can also use for loops to go through a list of strings"
   ]
  },
  {
   "cell_type": "code",
   "execution_count": 2,
   "metadata": {},
   "outputs": [
    {
     "name": "stdout",
     "output_type": "stream",
     "text": [
      "a\n",
      "b\n",
      "c\n",
      "d\n"
     ]
    }
   ],
   "source": [
    "example_list_1 = ['a', 'b', 'c', 'd']\n",
    "for thing in example_list_1:\n",
    "    print (thing)"
   ]
  },
  {
   "cell_type": "markdown",
   "metadata": {},
   "source": [
    "**EXAMPLE 1:** We can use for loops on nested lists too!"
   ]
  },
  {
   "cell_type": "code",
   "execution_count": 4,
   "metadata": {},
   "outputs": [
    {
     "name": "stdout",
     "output_type": "stream",
     "text": [
      "Beijing is the capital of China\n",
      "Washington D.C. is the capital of USA\n",
      "Delhi is the capital of India\n"
     ]
    }
   ],
   "source": [
    "example_list_2 = [['China', 'Beijing'],\n",
    "                  ['USA'  , 'Washington D.C.'],\n",
    "                  ['India', 'Delhi']]\n",
    "for country_with_capital in example_list_2:\n",
    "    country = country_with_capital[0]\n",
    "    capital = country_with_capital[1]\n",
    "    print (capital + ' is the capital of ' + country)\n",
    "    "
   ]
  },
  {
   "cell_type": "markdown",
   "metadata": {},
   "source": [
    "**EXAMPLE 2:** Define a procedure, sum_list, that takes as its input a list of numbers, and returns the sum of all the elements in the input list.\n"
   ]
  },
  {
   "cell_type": "code",
   "execution_count": 10,
   "metadata": {},
   "outputs": [
    {
     "name": "stdout",
     "output_type": "stream",
     "text": [
      "12\n"
     ]
    }
   ],
   "source": [
    "def sum_list(in_list):\n",
    "    summation=0\n",
    "    for list_value in in_list:\n",
    "        summation = summation + list_value\n",
    "    return summation\n",
    "\n",
    "\n",
    "\n",
    "print (sum_list([1, 7, 4]))\n",
    "#>>> 12\n",
    "\n",
    "#print sum_list([9, 4, 10])\n",
    "#>>> 23\n",
    "\n",
    "#print sum_list([44, 14, 76])\n",
    "#>>> 134"
   ]
  },
  {
   "cell_type": "markdown",
   "metadata": {},
   "source": [
    "**EXAMPLE 3:** Define a procedure, measure_udacity, that takes as its input a list of strings, and returns a number that is a count of the number of elements in the input list that start with the uppercase letter 'U'.\n"
   ]
  },
  {
   "cell_type": "code",
   "execution_count": 14,
   "metadata": {},
   "outputs": [
    {
     "name": "stdout",
     "output_type": "stream",
     "text": [
      "0\n",
      "2\n"
     ]
    }
   ],
   "source": [
    "def measure_udacity(in_list):\n",
    "    count=0\n",
    "    for word in in_list:\n",
    "        if word[0]=='U':\n",
    "            count+=1\n",
    "    return count\n",
    "\n",
    "print (measure_udacity(['Dave','Sebastian','Katy']))\n",
    "#>>> 0\n",
    "\n",
    "print (measure_udacity(['Umika','Umberto']))\n",
    "#>>> 2"
   ]
  },
  {
   "cell_type": "markdown",
   "metadata": {},
   "source": [
    "**EXAMPLE 4:** Define a procedure, find_element, that takes as its inputs a list and a value of any type, and returns the index of the first element in the input list that matches the value. If there is no matching element, return -1.\n",
    "\n"
   ]
  },
  {
   "cell_type": "code",
   "execution_count": 17,
   "metadata": {},
   "outputs": [
    {
     "name": "stdout",
     "output_type": "stream",
     "text": [
      "2\n",
      "-1\n"
     ]
    }
   ],
   "source": [
    "def find_element(in_list,n):\n",
    "    i=0\n",
    "    for value in in_list: #using for loop\n",
    "        if value == n:\n",
    "            return i\n",
    "        i+=1\n",
    "    return -1\n",
    "\n",
    "print (find_element([1,2,3],3))\n",
    "#>>> 2\n",
    "\n",
    "print (find_element(['alpha','beta'],'gamma'))\n",
    "#>>> -1"
   ]
  },
  {
   "cell_type": "code",
   "execution_count": 19,
   "metadata": {},
   "outputs": [
    {
     "name": "stdout",
     "output_type": "stream",
     "text": [
      "2\n",
      "-1\n"
     ]
    }
   ],
   "source": [
    "def find_element(in_list,n):\n",
    "    i=0\n",
    "    while i<len(in_list): #using for loop\n",
    "        if in_list[i] == n:\n",
    "            return i\n",
    "        i+=1\n",
    "    return -1\n",
    "\n",
    "print (find_element([1,2,3],3))\n",
    "#>>> 2\n",
    "\n",
    "print (find_element(['alpha','beta'],'gamma'))\n",
    "#>>> -1"
   ]
  },
  {
   "cell_type": "markdown",
   "metadata": {},
   "source": [
    "----------\n",
    "**Quiz:** what is the final output here?"
   ]
  },
  {
   "cell_type": "code",
   "execution_count": 3,
   "metadata": {},
   "outputs": [
    {
     "name": "stdout",
     "output_type": "stream",
     "text": [
      "g\n",
      "go\n",
      "goo\n",
      "good\n",
      "good \n",
      "good e\n",
      "good ev\n",
      "good eve\n",
      "good even\n",
      "good eveni\n",
      "good evenin\n",
      "good evening\n"
     ]
    }
   ],
   "source": [
    "result = \"\"\n",
    "for c in \"good evening\":\n",
    "    result = result+c\n",
    "    print(result)"
   ]
  },
  {
   "cell_type": "markdown",
   "metadata": {},
   "source": [
    "-------\n",
    "## Index\n",
    "\n",
    "`index` is a built-in function that returns the first position of the element in the list. If the element is not in the list it returns an error\n",
    "\n",
    "`in` returns `True` if the value is in the list, `False` otherwise"
   ]
  },
  {
   "cell_type": "code",
   "execution_count": 2,
   "metadata": {},
   "outputs": [
    {
     "name": "stdout",
     "output_type": "stream",
     "text": [
      "2\n"
     ]
    }
   ],
   "source": [
    "p=[1,2,3]\n",
    "print (p.index(3))"
   ]
  },
  {
   "cell_type": "code",
   "execution_count": 3,
   "metadata": {},
   "outputs": [
    {
     "ename": "ValueError",
     "evalue": "4 is not in list",
     "output_type": "error",
     "traceback": [
      "\u001b[1;31m---------------------------------------------------------------------------\u001b[0m",
      "\u001b[1;31mValueError\u001b[0m                                Traceback (most recent call last)",
      "\u001b[1;32m<ipython-input-3-a95e292e9304>\u001b[0m in \u001b[0;36m<module>\u001b[1;34m()\u001b[0m\n\u001b[1;32m----> 1\u001b[1;33m \u001b[0mprint\u001b[0m\u001b[1;33m(\u001b[0m\u001b[0mp\u001b[0m\u001b[1;33m.\u001b[0m\u001b[0mindex\u001b[0m\u001b[1;33m(\u001b[0m\u001b[1;36m4\u001b[0m\u001b[1;33m)\u001b[0m\u001b[1;33m)\u001b[0m\u001b[1;33m\u001b[0m\u001b[0m\n\u001b[0m",
      "\u001b[1;31mValueError\u001b[0m: 4 is not in list"
     ]
    }
   ],
   "source": [
    "print(p.index(4))"
   ]
  },
  {
   "cell_type": "code",
   "execution_count": 4,
   "metadata": {},
   "outputs": [
    {
     "name": "stdout",
     "output_type": "stream",
     "text": [
      "True\n"
     ]
    }
   ],
   "source": [
    "print(3 in p)"
   ]
  },
  {
   "cell_type": "code",
   "execution_count": 5,
   "metadata": {},
   "outputs": [
    {
     "name": "stdout",
     "output_type": "stream",
     "text": [
      "False\n"
     ]
    }
   ],
   "source": [
    "print(4 in p)"
   ]
  },
  {
   "cell_type": "markdown",
   "metadata": {},
   "source": [
    "**EXAMPLE 5:** Define a procedure, find_element, that takes as its inputs a list and a value of any type, and returns the index of the first element in the input list that matches the value. If there is no matching element, return -1. Without using loops\n"
   ]
  },
  {
   "cell_type": "code",
   "execution_count": 6,
   "metadata": {},
   "outputs": [
    {
     "name": "stdout",
     "output_type": "stream",
     "text": [
      "2\n",
      "-1\n"
     ]
    }
   ],
   "source": [
    "def find_element(in_list,n):\n",
    "    if n in in_list:  #dont add =='True'\n",
    "        return p.index(n)\n",
    "    else: return -1\n",
    "\n",
    "print (find_element([1,2,3],3))\n",
    "#>>> 2\n",
    "\n",
    "print (find_element(['alpha','beta'],'gamma'))\n",
    "#>>> -1"
   ]
  },
  {
   "cell_type": "markdown",
   "metadata": {},
   "source": [
    "--------\n",
    "### Range"
   ]
  },
  {
   "cell_type": "code",
   "execution_count": 9,
   "metadata": {},
   "outputs": [
    {
     "name": "stdout",
     "output_type": "stream",
     "text": [
      "0\n",
      "1\n",
      "2\n",
      "3\n",
      "4\n",
      "5\n"
     ]
    }
   ],
   "source": [
    "for x in range(6):\n",
    "  print(x)"
   ]
  },
  {
   "cell_type": "code",
   "execution_count": 11,
   "metadata": {},
   "outputs": [
    {
     "name": "stdout",
     "output_type": "stream",
     "text": [
      "2\n",
      "3\n",
      "4\n",
      "5\n"
     ]
    }
   ],
   "source": [
    "for x in range(2,6):\n",
    "  print(x)"
   ]
  },
  {
   "cell_type": "markdown",
   "metadata": {},
   "source": [
    "**Reversed Range**"
   ]
  },
  {
   "cell_type": "code",
   "execution_count": 1,
   "metadata": {},
   "outputs": [
    {
     "name": "stdout",
     "output_type": "stream",
     "text": [
      "5\n",
      "4\n",
      "3\n",
      "2\n"
     ]
    }
   ],
   "source": [
    "for x in reversed(range(2,6)):\n",
    "  print(x)"
   ]
  },
  {
   "cell_type": "markdown",
   "metadata": {},
   "source": [
    "------\n",
    "## Other Looping Techniques"
   ]
  },
  {
   "cell_type": "markdown",
   "metadata": {},
   "source": [
    "**zip()**: To loop over two or more sequences at the same time, the entries can be paired with the `zip()` function."
   ]
  },
  {
   "cell_type": "code",
   "execution_count": 9,
   "metadata": {},
   "outputs": [
    {
     "name": "stdout",
     "output_type": "stream",
     "text": [
      "<zip object at 0x00000265DABB1BC8>\n",
      "What is your name?  It is mustafa.\n",
      "What is your age?  It is 24.\n",
      "What is your favorite color?  It is blue.\n"
     ]
    }
   ],
   "source": [
    "questions = ['name', 'age', 'favorite color']\n",
    "answers = ['mustafa', '24', 'blue']\n",
    "\n",
    "print(zip(questions, answers)) #just curious to know how the output looks\n",
    "\n",
    "for q, a in zip(questions, answers):\n",
    "    print('What is your {0}?  It is {1}.'.format(q, a))\n"
   ]
  },
  {
   "cell_type": "markdown",
   "metadata": {},
   "source": [
    "**enumerate:** When looping through a sequence, the position index and corresponding value can be retrieved at the same time using the ` enumerate()` function"
   ]
  },
  {
   "cell_type": "code",
   "execution_count": 5,
   "metadata": {
    "scrolled": true
   },
   "outputs": [
    {
     "name": "stdout",
     "output_type": "stream",
     "text": [
      "0 hi\n",
      "1 hello\n",
      "2 hola\n"
     ]
    }
   ],
   "source": [
    "for i, v in enumerate(['hi', 'hello', 'hola']):\n",
    "    print(i, v)"
   ]
  }
 ],
 "metadata": {
  "kernelspec": {
   "display_name": "Python 3",
   "language": "python",
   "name": "python3"
  },
  "language_info": {
   "codemirror_mode": {
    "name": "ipython",
    "version": 3
   },
   "file_extension": ".py",
   "mimetype": "text/x-python",
   "name": "python",
   "nbconvert_exporter": "python",
   "pygments_lexer": "ipython3",
   "version": "3.7.1"
  }
 },
 "nbformat": 4,
 "nbformat_minor": 2
}
